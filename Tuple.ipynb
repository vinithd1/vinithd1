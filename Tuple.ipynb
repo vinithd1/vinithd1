{
  "nbformat": 4,
  "nbformat_minor": 0,
  "metadata": {
    "colab": {
      "name": "Copy of Tuple.ipynb",
      "provenance": [],
      "collapsed_sections": []
    },
    "kernelspec": {
      "display_name": "Python 3",
      "language": "python",
      "name": "python3"
    },
    "language_info": {
      "codemirror_mode": {
        "name": "ipython",
        "version": 3
      },
      "file_extension": ".py",
      "mimetype": "text/x-python",
      "name": "python",
      "nbconvert_exporter": "python",
      "pygments_lexer": "ipython3",
      "version": "3.8.5"
    }
  },
  "cells": [
    {
      "cell_type": "markdown",
      "metadata": {
        "id": "6BrA-4Y0uj1t"
      },
      "source": [
        "[Slide No- 39]\n",
        "\n",
        "1. Create empty tuple and check its Data type."
      ]
    },
    {
      "cell_type": "code",
      "metadata": {
        "colab": {
          "base_uri": "https://localhost:8080/"
        },
        "id": "EFzfOlfre9KM",
        "outputId": "0cf51d8d-bfd0-41a1-a3c8-56e4e015dc0f"
      },
      "source": [
        "tuple1=()\n",
        "print(type(tuple1))\n"
      ],
      "execution_count": null,
      "outputs": [
        {
          "output_type": "stream",
          "text": [
            "<class 'tuple'>\n"
          ],
          "name": "stdout"
        }
      ]
    },
    {
      "cell_type": "markdown",
      "metadata": {
        "id": "0yF34ew-rA8r"
      },
      "source": [
        "**[Slide No. - 39]**\n",
        "\n",
        "\n",
        "\n",
        "2. Check the output : \n",
        "T1 = (101, \"Peter\", 22)    \n",
        "\n",
        "T2 = (\"Apple\", \"Banana\", \"Orange\") \n",
        "\n",
        "T3 = (10,20,30,40,50)  \n",
        "\n",
        "Print Data type of each tuple."
      ]
    },
    {
      "cell_type": "code",
      "metadata": {
        "id": "osF6Ro0Je9g7",
        "colab": {
          "base_uri": "https://localhost:8080/"
        },
        "outputId": "2d6aad6e-94ad-4456-fbd9-d40d04286e46"
      },
      "source": [
        "T1 = (101, \"Peter\", 22)\n",
        "T2 = (\"Apple\", \"Banana\", \"Orange\")\n",
        "\n",
        "T3 = (10,20,30,40,50)\n",
        "\n",
        "print(type(T1))\n",
        "print(type(T2))\n",
        "print(type(T3))"
      ],
      "execution_count": null,
      "outputs": [
        {
          "output_type": "stream",
          "text": [
            "<class 'tuple'>\n",
            "<class 'tuple'>\n",
            "<class 'tuple'>\n"
          ],
          "name": "stdout"
        }
      ]
    },
    {
      "cell_type": "markdown",
      "metadata": {
        "id": "ghTaF2EmrBCJ"
      },
      "source": [
        "**[Slide No. - 40]**\n",
        "\n",
        "3.Write the program to print 0 index item of tuple .\n",
        "\n",
        "tup = (1,2,3,4,5,6,7)\n",
        "\n"
      ]
    },
    {
      "cell_type": "code",
      "metadata": {
        "id": "3jJBczMne-G7",
        "colab": {
          "base_uri": "https://localhost:8080/"
        },
        "outputId": "dc39b0b2-c19b-47c5-fbc8-c430f5caeffb"
      },
      "source": [
        "tup = (1,2,3,4,5,6,7)\n",
        "print(tup[0])"
      ],
      "execution_count": null,
      "outputs": [
        {
          "output_type": "stream",
          "text": [
            "1\n"
          ],
          "name": "stdout"
        }
      ]
    },
    {
      "cell_type": "markdown",
      "metadata": {
        "id": "aZ_qeqMHrBE2"
      },
      "source": [
        "**[Slide No. - 40]**\n",
        "\n",
        "4.  What is the output of the program  \n",
        "\n",
        "tup = (1,2,3,4,5,6,7)\n",
        "\n",
        "print(tup[8])  "
      ]
    },
    {
      "cell_type": "code",
      "metadata": {
        "id": "3LsWZNpJe-sr",
        "colab": {
          "base_uri": "https://localhost:8080/",
          "height": 212
        },
        "outputId": "6f79c17c-a355-46c5-ff09-c1086e14c392"
      },
      "source": [
        "tup = (1,2,3,4,5,6,7)\n",
        "\n",
        "print(tup[8])\n",
        "\n"
      ],
      "execution_count": null,
      "outputs": [
        {
          "output_type": "error",
          "ename": "IndexError",
          "evalue": "ignored",
          "traceback": [
            "\u001b[0;31m---------------------------------------------------------------------------\u001b[0m",
            "\u001b[0;31mIndexError\u001b[0m                                Traceback (most recent call last)",
            "\u001b[0;32m<ipython-input-31-581e564f42fc>\u001b[0m in \u001b[0;36m<module>\u001b[0;34m()\u001b[0m\n\u001b[1;32m      1\u001b[0m \u001b[0mtup\u001b[0m \u001b[0;34m=\u001b[0m \u001b[0;34m(\u001b[0m\u001b[0;36m1\u001b[0m\u001b[0;34m,\u001b[0m\u001b[0;36m2\u001b[0m\u001b[0;34m,\u001b[0m\u001b[0;36m3\u001b[0m\u001b[0;34m,\u001b[0m\u001b[0;36m4\u001b[0m\u001b[0;34m,\u001b[0m\u001b[0;36m5\u001b[0m\u001b[0;34m,\u001b[0m\u001b[0;36m6\u001b[0m\u001b[0;34m,\u001b[0m\u001b[0;36m7\u001b[0m\u001b[0;34m)\u001b[0m\u001b[0;34m\u001b[0m\u001b[0;34m\u001b[0m\u001b[0m\n\u001b[1;32m      2\u001b[0m \u001b[0;34m\u001b[0m\u001b[0m\n\u001b[0;32m----> 3\u001b[0;31m \u001b[0mprint\u001b[0m\u001b[0;34m(\u001b[0m\u001b[0mtup\u001b[0m\u001b[0;34m[\u001b[0m\u001b[0;36m8\u001b[0m\u001b[0;34m]\u001b[0m\u001b[0;34m)\u001b[0m\u001b[0;34m\u001b[0m\u001b[0;34m\u001b[0m\u001b[0m\n\u001b[0m\u001b[1;32m      4\u001b[0m \u001b[0;34m\u001b[0m\u001b[0m\n",
            "\u001b[0;31mIndexError\u001b[0m: tuple index out of range"
          ]
        }
      ]
    },
    {
      "cell_type": "markdown",
      "metadata": {
        "id": "aROdqHSPrBHM"
      },
      "source": [
        "**[Slide No. 40]**\n",
        "\n",
        "5.  Write a program to concate two tuple."
      ]
    },
    {
      "cell_type": "code",
      "metadata": {
        "id": "kln1QAOLe_Gr",
        "colab": {
          "base_uri": "https://localhost:8080/"
        },
        "outputId": "62c975ca-1179-42d6-9ac3-6c0ea374f7d2"
      },
      "source": [
        "tup1=(2,5,8,6,3)\n",
        "tup2=(9,5,6,3,7,8)\n",
        "print(tup1+tup2)\n"
      ],
      "execution_count": null,
      "outputs": [
        {
          "output_type": "stream",
          "text": [
            "(2, 5, 8, 6, 3, 9, 5, 6, 3, 7, 8)\n"
          ],
          "name": "stdout"
        }
      ]
    },
    {
      "cell_type": "markdown",
      "metadata": {
        "id": "C7BdniSyrBJb"
      },
      "source": [
        "**[Slide No. 40]**\n",
        "\n",
        "6 .  Write a program to create the tuple and delete the items?"
      ]
    },
    {
      "cell_type": "code",
      "metadata": {
        "id": "JnBgxEFEe_rL"
      },
      "source": [
        "A=(1,\"abc\",5,8,6)"
      ],
      "execution_count": null,
      "outputs": []
    },
    {
      "cell_type": "code",
      "metadata": {
        "id": "p0aT3fOzVRad",
        "colab": {
          "base_uri": "https://localhost:8080/"
        },
        "outputId": "ab2763ce-c951-4568-d1ec-a5615cb04bab"
      },
      "source": [
        "A=(1,\"abc\",5,8,6)\n",
        "\n",
        "B=list(A)\n",
        "B.remove(\"abc\")\n",
        "print(B)\n"
      ],
      "execution_count": null,
      "outputs": [
        {
          "output_type": "stream",
          "text": [
            "[1, 5, 8, 6]\n"
          ],
          "name": "stdout"
        }
      ]
    },
    {
      "cell_type": "markdown",
      "metadata": {
        "id": "rbAjLzFyrBU1"
      },
      "source": [
        "**[Slide No. 40]**\n",
        "\n",
        "7. Write a program to delete  2 index value from  tuples?"
      ]
    },
    {
      "cell_type": "code",
      "metadata": {
        "id": "cckHUdKnfAL7",
        "colab": {
          "base_uri": "https://localhost:8080/"
        },
        "outputId": "182ea70f-4afb-44ae-b26b-9fa7b07a1169"
      },
      "source": [
        "a=(1,\"abc\",5,\"ytr\",8,6)\n",
        "b=list(a)\n",
        "b.pop(2)\n",
        "print(b)"
      ],
      "execution_count": null,
      "outputs": [
        {
          "output_type": "stream",
          "text": [
            "[1, 'abc', 'ytr', 8, 6]\n"
          ],
          "name": "stdout"
        }
      ]
    },
    {
      "cell_type": "markdown",
      "metadata": {
        "id": "EmyErnscvJyV"
      },
      "source": [
        "**[Slide No. 40]**\n",
        "\n",
        "8. Check the output of \n",
        "tuple1 = (1, 2, 3, 4, 5)    \n",
        "\n",
        "using negative indexing print last two item of tuple\n",
        "\n",
        "using negative indexing print '4' from the tuple\n",
        "\n",
        "using negative indexing print all items of the list \n"
      ]
    },
    {
      "cell_type": "code",
      "metadata": {
        "id": "IkQiPA4neVHN",
        "colab": {
          "base_uri": "https://localhost:8080/"
        },
        "outputId": "32e8a373-3ac8-4b64-ebb5-946dcc47ca23"
      },
      "source": [
        "tuple1 = (1, 2, 3, 4, 5)\n",
        "print(tuple1[-2:])"
      ],
      "execution_count": null,
      "outputs": [
        {
          "output_type": "stream",
          "text": [
            "(4, 5)\n"
          ],
          "name": "stdout"
        }
      ]
    },
    {
      "cell_type": "code",
      "metadata": {
        "id": "sy7nfv86Yo0B",
        "colab": {
          "base_uri": "https://localhost:8080/"
        },
        "outputId": "0fd2442b-2685-4c77-95eb-836f26343c47"
      },
      "source": [
        "tuple1 = (1, 2, 3, 4, 5)\n",
        "print(tuple1[-2])"
      ],
      "execution_count": null,
      "outputs": [
        {
          "output_type": "stream",
          "text": [
            "4\n"
          ],
          "name": "stdout"
        }
      ]
    },
    {
      "cell_type": "code",
      "metadata": {
        "colab": {
          "base_uri": "https://localhost:8080/"
        },
        "id": "WKl-mPHeg9eq",
        "outputId": "027c8f2f-8e37-4765-8731-a482b1931713"
      },
      "source": [
        "tuple1 = (1, 2, 3, 4, 5)\n",
        "print(tuple1[-5:])"
      ],
      "execution_count": null,
      "outputs": [
        {
          "output_type": "stream",
          "text": [
            "(1, 2, 3, 4, 5)\n"
          ],
          "name": "stdout"
        }
      ]
    },
    {
      "cell_type": "code",
      "metadata": {
        "id": "hHsIldcXhLLI"
      },
      "source": [
        ""
      ],
      "execution_count": null,
      "outputs": []
    }
  ]
}