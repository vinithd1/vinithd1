{
  "nbformat": 4,
  "nbformat_minor": 0,
  "metadata": {
    "colab": {
      "name": "Copy of Set_Dtype.ipynb",
      "provenance": [],
      "collapsed_sections": []
    },
    "kernelspec": {
      "display_name": "Python 3",
      "language": "python",
      "name": "python3"
    },
    "language_info": {
      "codemirror_mode": {
        "name": "ipython",
        "version": 3
      },
      "file_extension": ".py",
      "mimetype": "text/x-python",
      "name": "python",
      "nbconvert_exporter": "python",
      "pygments_lexer": "ipython3",
      "version": "3.8.5"
    }
  },
  "cells": [
    {
      "cell_type": "markdown",
      "metadata": {
        "id": "jh5m4BfimJbE"
      },
      "source": [
        "**[Slide No. 41]**\n",
        "\n",
        "1. Write a Python program to create a set."
      ]
    },
    {
      "cell_type": "code",
      "metadata": {
        "colab": {
          "base_uri": "https://localhost:8080/"
        },
        "id": "CTpqrX9_n3Sc",
        "outputId": "bd25a960-77d9-4f1c-c39c-c42ed1829fca"
      },
      "source": [
        "set1={1, '2'}\n",
        "print(type(set1))"
      ],
      "execution_count": 1,
      "outputs": [
        {
          "output_type": "stream",
          "text": [
            "<class 'set'>\n"
          ],
          "name": "stdout"
        }
      ]
    },
    {
      "cell_type": "markdown",
      "metadata": {
        "id": "u1lQCDqqmJvW"
      },
      "source": [
        "**[Slide No.41]**\n",
        "\n",
        "2. Write a Python program to add member(s) in a set."
      ]
    },
    {
      "cell_type": "code",
      "metadata": {
        "colab": {
          "base_uri": "https://localhost:8080/"
        },
        "id": "G3Mwr81Wn3vK",
        "outputId": "ed74104a-c915-4855-dd29-a94ec1753e89"
      },
      "source": [
        "set1={1, '2'}\n",
        "set1.add(12)\n",
        "set1"
      ],
      "execution_count": 2,
      "outputs": [
        {
          "output_type": "execute_result",
          "data": {
            "text/plain": [
              "{1, 12, '2'}"
            ]
          },
          "metadata": {
            "tags": []
          },
          "execution_count": 2
        }
      ]
    },
    {
      "cell_type": "markdown",
      "metadata": {
        "id": "_K8Yt3yCmJy7"
      },
      "source": [
        "**[Slide No. 41]**\n",
        " \n",
        " 3. Write a Python program to add string , int, list and float  member(s) in a set."
      ]
    },
    {
      "cell_type": "code",
      "metadata": {
        "colab": {
          "base_uri": "https://localhost:8080/"
        },
        "id": "LRjHXMPXn4RT",
        "outputId": "9a98b3f7-54b4-4b3d-9bd0-5a4c17e37689"
      },
      "source": [
        "set1={1, 12, '2'}\n",
        "set1.add(13)\n",
        "set1.add('abc')\n",
        "list1=[1,2,3]\n",
        "set1.update(list1)\n",
        "set1.add(3.4)\n",
        "set1"
      ],
      "execution_count": 5,
      "outputs": [
        {
          "output_type": "execute_result",
          "data": {
            "text/plain": [
              "{1, 12, 13, 2, '2', 3, 3.4, 'abc'}"
            ]
          },
          "metadata": {
            "tags": []
          },
          "execution_count": 5
        }
      ]
    },
    {
      "cell_type": "markdown",
      "metadata": {
        "id": "eP30xm0cmJ2K"
      },
      "source": [
        "**[Slide No. 41]**\n",
        "\n",
        "4. Write a program to add multiple element in set. "
      ]
    },
    {
      "cell_type": "code",
      "metadata": {
        "id": "wIt1MXX2n4va",
        "colab": {
          "base_uri": "https://localhost:8080/"
        },
        "outputId": "a2cdb93d-554d-4277-e6db-b4b2196bd7f0"
      },
      "source": [
        "set1={1, 12, '2'}\n",
        "set2={2,'abc',9,11}\n",
        "set1.update(set2)\n",
        "set1"
      ],
      "execution_count": 6,
      "outputs": [
        {
          "output_type": "execute_result",
          "data": {
            "text/plain": [
              "{1, 11, 12, 2, '2', 9, 'abc'}"
            ]
          },
          "metadata": {
            "tags": []
          },
          "execution_count": 6
        }
      ]
    },
    {
      "cell_type": "markdown",
      "metadata": {
        "id": "MMb-QgjymJ5h"
      },
      "source": [
        "**[Slide No. 43]**\n",
        "\n",
        "5. What is the output :\n",
        "\n",
        "my_set = {1, 3, 4, 5, 6}\n",
        "\n",
        "Explain the difference between discard and remove method in set"
      ]
    },
    {
      "cell_type": "code",
      "metadata": {
        "id": "aWiaJsGBn5X1",
        "colab": {
          "base_uri": "https://localhost:8080/"
        },
        "outputId": "71550057-4957-44bc-e5ae-f29c9ddffb1d"
      },
      "source": [
        "my_set = {1, 3, 4, 5, 6}\n",
        "my_set"
      ],
      "execution_count": 7,
      "outputs": [
        {
          "output_type": "execute_result",
          "data": {
            "text/plain": [
              "{1, 3, 4, 5, 6}"
            ]
          },
          "metadata": {
            "tags": []
          },
          "execution_count": 7
        }
      ]
    },
    {
      "cell_type": "code",
      "metadata": {
        "id": "mI-y-xuWi9u2"
      },
      "source": [
        "The discard() method in Python removes a specified element from the Set. ... The remove() method raises an error \n",
        "when the specified element doesn't exist in the given set, however the discard() method doesn't raise any error \n",
        "if the specified element is not present in the set and the set remains unchanged."
      ],
      "execution_count": null,
      "outputs": []
    },
    {
      "cell_type": "markdown",
      "metadata": {
        "id": "232Wx7ZqmJ7u"
      },
      "source": [
        "**[Slide No. 42]**\n",
        "\n",
        "6. Write a program to remove duplicate value from set.\n"
      ]
    },
    {
      "cell_type": "code",
      "metadata": {
        "id": "0eDe4Ofln56S",
        "colab": {
          "base_uri": "https://localhost:8080/"
        },
        "outputId": "ee221d1e-6f76-46c3-d58e-833a86816ba1"
      },
      "source": [
        "set101={1,9,2,6,9,8,2}\n",
        "set101\n",
        "#set does not take a duplicate value"
      ],
      "execution_count": 9,
      "outputs": [
        {
          "output_type": "execute_result",
          "data": {
            "text/plain": [
              "{1, 2, 6, 8, 9}"
            ]
          },
          "metadata": {
            "tags": []
          },
          "execution_count": 9
        }
      ]
    },
    {
      "cell_type": "markdown",
      "metadata": {
        "id": "UuFjaDp7mJ-0"
      },
      "source": [
        "7.  Write a Python program to clear a set."
      ]
    },
    {
      "cell_type": "code",
      "metadata": {
        "id": "2Wp51_BJn6XI",
        "colab": {
          "base_uri": "https://localhost:8080/"
        },
        "outputId": "f935ab1f-a0be-410a-d0a5-39e5e52b7569"
      },
      "source": [
        "set101={1,9,2,6,9,8,2}\n",
        "set101.clear()\n",
        "set101"
      ],
      "execution_count": 12,
      "outputs": [
        {
          "output_type": "execute_result",
          "data": {
            "text/plain": [
              "set()"
            ]
          },
          "metadata": {
            "tags": []
          },
          "execution_count": 12
        }
      ]
    },
    {
      "cell_type": "markdown",
      "metadata": {
        "id": "ymIOwvtSmKCN"
      },
      "source": [
        "**[Slide No. 43]**\n",
        "\n",
        "8. Write a program to add two set."
      ]
    },
    {
      "cell_type": "code",
      "metadata": {
        "id": "v7HfWA6On7DN",
        "colab": {
          "base_uri": "https://localhost:8080/"
        },
        "outputId": "056d19ca-bf2f-4b27-92b9-5679cf0cd26a"
      },
      "source": [
        "set1={1, 12, '2'}\n",
        "set2={2,'abc',9,11}\n",
        "set3=set1.union(set2)\n",
        "set3"
      ],
      "execution_count": 14,
      "outputs": [
        {
          "output_type": "execute_result",
          "data": {
            "text/plain": [
              "{1, 11, 12, 2, '2', 9, 'abc'}"
            ]
          },
          "metadata": {
            "tags": []
          },
          "execution_count": 14
        }
      ]
    },
    {
      "cell_type": "markdown",
      "metadata": {
        "id": "MYFq0syFmKFm"
      },
      "source": [
        "**[Slide No. 43]**\n",
        "\n",
        "9. What is the output of:\n",
        "\n",
        "months = set([\"January\",\"February\", \"March\", \"April\", \"May\", \"June\"])   \n",
        "\n",
        "print(\"\\nprinting the original set ... \")    \n",
        "\n",
        "-Q. Print the set month    \n",
        "\n",
        "print(\"\\nRemoving some months from the set...\");    \n",
        "\n",
        "-Q. Remove january  from the set    \n",
        "\n",
        "-Q. Remove may  from the set  \n",
        "\n",
        "\n",
        "print(\"\\nPrinting the modified set...\");    \n",
        "\n",
        "print(months)  \n",
        "\n"
      ]
    },
    {
      "cell_type": "code",
      "metadata": {
        "id": "YSeAk9Bin7ij",
        "colab": {
          "base_uri": "https://localhost:8080/"
        },
        "outputId": "3398bd30-248b-46fd-ff4d-0cbe388676e3"
      },
      "source": [
        "months = set([\"January\",\"February\", \"March\", \"April\", \"May\", \"June\"])\n",
        "months.remove(\"January\")\n",
        "months.discard(\"May\")\n",
        "print(\"\\nprinting the original set ... \")\n",
        "print(\"\\nRemoving some months from the set...\");\n",
        "print(\"\\nPrinting the modified set...\");\n",
        "print(months)"
      ],
      "execution_count": 18,
      "outputs": [
        {
          "output_type": "stream",
          "text": [
            "\n",
            "printing the original set ... \n",
            "\n",
            "Removing some months from the set...\n",
            "\n",
            "Printing the modified set...\n",
            "{'March', 'February', 'June', 'April'}\n"
          ],
          "name": "stdout"
        }
      ]
    },
    {
      "cell_type": "markdown",
      "metadata": {
        "id": "OPGKae_wmKIy"
      },
      "source": [
        "**[Slide No. 44]**\n",
        "\n",
        "10. Find union of\n",
        "\n",
        "Days1 = {\"Monday\",\"Tuesday\",\"Wednesday\",\"Thursday\"}\n",
        "    \n",
        "Days2 = {\"Friday\",\"Saturday\",\"Sunday\"}   "
      ]
    },
    {
      "cell_type": "code",
      "metadata": {
        "id": "IJBJD9D106cY",
        "colab": {
          "base_uri": "https://localhost:8080/"
        },
        "outputId": "a295dac3-2f60-4783-f035-c5e4e902ab50"
      },
      "source": [
        "Days1 = {\"Monday\",\"Tuesday\",\"Wednesday\",\"Thursday\"}\n",
        "\n",
        "Days2 = {\"Friday\",\"Saturday\",\"Sunday\"}\n",
        "\n",
        "print(Days1.union(Days2))"
      ],
      "execution_count": 20,
      "outputs": [
        {
          "output_type": "stream",
          "text": [
            "{'Tuesday', 'Friday', 'Sunday', 'Thursday', 'Wednesday', 'Monday', 'Saturday'}\n"
          ],
          "name": "stdout"
        }
      ]
    },
    {
      "cell_type": "markdown",
      "metadata": {
        "id": "VpAPmiIBoNaS"
      },
      "source": [
        "**[Slide No. 45]**\n",
        "\n",
        " 11. Write a Python program to create an intersection of sets."
      ]
    },
    {
      "cell_type": "code",
      "metadata": {
        "id": "MRzfzZ3bn8O0",
        "colab": {
          "base_uri": "https://localhost:8080/"
        },
        "outputId": "9ded0e5d-cbae-497a-ec7d-d76fb5109877"
      },
      "source": [
        "x = {\"apple\", \"banana\", \"cherry\"}\n",
        "y = {\"google\", \"microsoft\", \"apple\"}\n",
        "\n",
        "z = x.intersection(y) \n",
        "z"
      ],
      "execution_count": 23,
      "outputs": [
        {
          "output_type": "execute_result",
          "data": {
            "text/plain": [
              "{'apple'}"
            ]
          },
          "metadata": {
            "tags": []
          },
          "execution_count": 23
        }
      ]
    },
    {
      "cell_type": "markdown",
      "metadata": {
        "id": "iIFHboGboH9v"
      },
      "source": [
        "**[Slide No. 45]**\n",
        "\n",
        "12. Write a Python program to create set difference."
      ]
    },
    {
      "cell_type": "code",
      "metadata": {
        "id": "E5RwOmVNtTie",
        "colab": {
          "base_uri": "https://localhost:8080/"
        },
        "outputId": "36174e61-254a-48f5-9e01-8fe0eadf421e"
      },
      "source": [
        "x = {\"apple\", \"banana\", \"cherry\"}\n",
        "y = {\"google\", \"microsoft\", \"apple\"}\n",
        "z = x.difference(y) \n",
        "q = y.difference(x)\n",
        "print(z)\n",
        "print(q)"
      ],
      "execution_count": 24,
      "outputs": [
        {
          "output_type": "stream",
          "text": [
            "{'banana', 'cherry'}\n",
            "{'google', 'microsoft'}\n"
          ],
          "name": "stdout"
        }
      ]
    }
  ]
}