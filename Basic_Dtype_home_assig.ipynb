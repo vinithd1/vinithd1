{
  "nbformat": 4,
  "nbformat_minor": 0,
  "metadata": {
    "colab": {
      "name": "Copy of Basic_Dtype_home_assig.ipynb",
      "provenance": [],
      "collapsed_sections": []
    },
    "kernelspec": {
      "name": "python3",
      "display_name": "Python 3"
    },
    "language_info": {
      "name": "python"
    }
  },
  "cells": [
    {
      "cell_type": "code",
      "metadata": {
        "id": "zj0qj9Z3vGYT",
        "colab": {
          "base_uri": "https://localhost:8080/"
        },
        "outputId": "4b5fbd6b-0ad1-4bd7-a84b-8925fcebd9c3"
      },
      "source": [
        "# print the type of x,y,z\n",
        "\n",
        "x = 1  \n",
        "y = 2.8  \n",
        "z = 1j\n",
        "\n",
        "print(type(x))\n",
        "print(type(y))\n",
        "print(type(z))"
      ],
      "execution_count": 5,
      "outputs": [
        {
          "output_type": "stream",
          "text": [
            "<class 'int'>\n",
            "<class 'float'>\n",
            "<class 'complex'>\n"
          ],
          "name": "stdout"
        }
      ]
    },
    {
      "cell_type": "code",
      "metadata": {
        "colab": {
          "base_uri": "https://localhost:8080/"
        },
        "id": "AljHnQDuvT4s",
        "outputId": "1f5a7704-0e6b-4600-8db9-e2e6df49e06c"
      },
      "source": [
        "# Convert flot into int \n",
        "\n",
        "X=1.4\n",
        "x=int(float(1.4))\n",
        "print(x)"
      ],
      "execution_count": 6,
      "outputs": [
        {
          "output_type": "stream",
          "text": [
            "1\n"
          ],
          "name": "stdout"
        }
      ]
    },
    {
      "cell_type": "code",
      "metadata": {
        "id": "pXCgmrggvfKE",
        "colab": {
          "base_uri": "https://localhost:8080/"
        },
        "outputId": "29b3a4b0-511f-426c-88d0-d6378b25919d"
      },
      "source": [
        "#Convert from one type to another:\n",
        "\n",
        "x = 5   # int\n",
        "y = 3.8  # float\n",
        "z = 5j   # complex\n",
        "\n",
        "#convert from int to float:\n",
        "x=float(5)\n",
        "print(x)\n",
        "\n",
        "#convert from float to int:\n",
        "y=int(3.8)\n",
        "print(y)\n",
        "\n",
        "#convert from int to complex:\n",
        "z=complex(5j)\n",
        "print(z)"
      ],
      "execution_count": 7,
      "outputs": [
        {
          "output_type": "stream",
          "text": [
            "5.0\n",
            "3\n",
            "5j\n"
          ],
          "name": "stdout"
        }
      ]
    },
    {
      "cell_type": "code",
      "metadata": {
        "id": "Rm34yvYbweTT",
        "colab": {
          "base_uri": "https://localhost:8080/"
        },
        "outputId": "31519483-f36c-4d88-d06c-8f5b8031fe4c"
      },
      "source": [
        "# Print 15 random numbers\n",
        "\n",
        "import random\n",
        "\n",
        "print(random.randrange(1, 15) )"
      ],
      "execution_count": 9,
      "outputs": [
        {
          "output_type": "stream",
          "text": [
            "7\n"
          ],
          "name": "stdout"
        }
      ]
    },
    {
      "cell_type": "code",
      "metadata": {
        "id": "eXkc7b3yxYpN",
        "colab": {
          "base_uri": "https://localhost:8080/"
        },
        "outputId": "c93a006e-ad89-47d8-b75e-8b178c72ca13"
      },
      "source": [
        "# Convert int ,float to string \n",
        "\n",
        "x = str(\"t5\") \n",
        "y = str(4)    \n",
        "z = str(6.0)\n",
        "print(x)\n",
        "print(y)\n",
        "print(z)"
      ],
      "execution_count": 10,
      "outputs": [
        {
          "output_type": "stream",
          "text": [
            "t5\n",
            "4\n",
            "6.0\n"
          ],
          "name": "stdout"
        }
      ]
    },
    {
      "cell_type": "code",
      "metadata": {
        "id": "RDquS0nfxB81",
        "colab": {
          "base_uri": "https://localhost:8080/"
        },
        "outputId": "62ca6b85-f7d3-4012-b39f-08fc5dab90db"
      },
      "source": [
        "# Assign a string to variable \n",
        "\n",
        "a=\"python\"\n",
        "print(a)"
      ],
      "execution_count": 11,
      "outputs": [
        {
          "output_type": "stream",
          "text": [
            "python\n"
          ],
          "name": "stdout"
        }
      ]
    },
    {
      "cell_type": "code",
      "metadata": {
        "colab": {
          "base_uri": "https://localhost:8080/"
        },
        "id": "RH-g9oUdypcy",
        "outputId": "c2ce006c-6891-40c2-8b96-3a869005134e"
      },
      "source": [
        "# Concatenate two string \n",
        "a=\"Hello raj?\"\n",
        "b=\"Hi Manish.\"\n",
        "c=\"How are you.\"\n",
        "d=\"I am fine.\"\n",
        "\n",
        "print(a+b+c+d)"
      ],
      "execution_count": 12,
      "outputs": [
        {
          "output_type": "stream",
          "text": [
            "Hello raj?Hi Manish.How are you.I am fine.\n"
          ],
          "name": "stdout"
        }
      ]
    },
    {
      "cell_type": "code",
      "metadata": {
        "colab": {
          "base_uri": "https://localhost:8080/"
        },
        "id": "Z4z8NPqxzXsS",
        "outputId": "eaaf2f32-7e46-44ac-b0b2-7b43b5b8e424"
      },
      "source": [
        "# Print the output='lo, Wor'\n",
        "a = \"Hello, World!\"\n",
        "print(a[3: -3:])"
      ],
      "execution_count": 16,
      "outputs": [
        {
          "output_type": "stream",
          "text": [
            "lo, Wor\n"
          ],
          "name": "stdout"
        }
      ]
    },
    {
      "cell_type": "code",
      "metadata": {
        "id": "maTfRVHrzA-2",
        "colab": {
          "base_uri": "https://localhost:8080/"
        },
        "outputId": "13dfddea-c90e-482d-8b0d-32de99933552"
      },
      "source": [
        "# Check the required string/word is in the sentence of not\n",
        "\n",
        "Sentence=\"Hello Indian , I like you culture.\"\n",
        "\n",
        "print(\"like\" in Sentence)"
      ],
      "execution_count": 58,
      "outputs": [
        {
          "output_type": "stream",
          "text": [
            "True\n"
          ],
          "name": "stdout"
        }
      ]
    },
    {
      "cell_type": "code",
      "metadata": {
        "id": "eyFT8KlO0cMk",
        "colab": {
          "base_uri": "https://localhost:8080/"
        },
        "outputId": "98eba07d-0482-4c21-ffbe-2b83f8eb38d5"
      },
      "source": [
        "# Print the output='I Love'\n",
        "Sentence=\"I Love India!\"\n",
        "print(Sentence[:6])"
      ],
      "execution_count": 17,
      "outputs": [
        {
          "output_type": "stream",
          "text": [
            "I Love\n"
          ],
          "name": "stdout"
        }
      ]
    },
    {
      "cell_type": "code",
      "metadata": {
        "id": "VP50WkkomLu8",
        "colab": {
          "base_uri": "https://localhost:8080/"
        },
        "outputId": "e949e2b8-89ed-41ca-bb9e-f6b6af37cff5"
      },
      "source": [
        "#print the output: \n",
        "#I want to pay 49.95 dollars for 3 pieces of item 567\n",
        "\n",
        "quantity = 3\n",
        "itemno = 567\n",
        "price = 49.95\n",
        "myorder = \"I want to pay {2} dollars for {0} pieces of item {1}.\"\n",
        "print(myorder.format(quantity,itemno, price)) "
      ],
      "execution_count": 18,
      "outputs": [
        {
          "output_type": "stream",
          "text": [
            "I want to pay 49.95 dollars for 3 pieces of item 567.\n"
          ],
          "name": "stdout"
        }
      ]
    },
    {
      "cell_type": "code",
      "metadata": {
        "id": "fcLAtZJUn8dP",
        "colab": {
          "base_uri": "https://localhost:8080/"
        },
        "outputId": "51e4553e-1207-4fa5-8bbe-63187022395d"
      },
      "source": [
        "# remove the error\n",
        "Sent = \"We will vist \\\"America\\\" after two days.\"       #escape sequence.\n",
        "print(Sent)"
      ],
      "execution_count": 19,
      "outputs": [
        {
          "output_type": "stream",
          "text": [
            "We will vist \"America\" after two days.\n"
          ],
          "name": "stdout"
        }
      ]
    },
    {
      "cell_type": "code",
      "metadata": {
        "colab": {
          "base_uri": "https://localhost:8080/"
        },
        "id": "NASyDsBbofMs",
        "outputId": "c3aebca9-a6d9-4130-d54e-9e9f5cccc7ce"
      },
      "source": [
        "# Print the sentence after comma in next line \n",
        "Sent=\" Hii Mona ,\\n When will we go for holidays ?  \"     # escape sequence \\n\n",
        "print(Sent)"
      ],
      "execution_count": 20,
      "outputs": [
        {
          "output_type": "stream",
          "text": [
            " Hii Mona ,\n",
            " When will we go for holidays ?  \n"
          ],
          "name": "stdout"
        }
      ]
    },
    {
      "cell_type": "code",
      "metadata": {
        "id": "QGOrGORspHnt",
        "colab": {
          "base_uri": "https://localhost:8080/"
        },
        "outputId": "12b2e6df-790b-44e7-fd88-a97802c4348a"
      },
      "source": [
        "# Remove the duplicate from the list \n",
        "List=[\"Ram\",'Sam','Nick','Sam']   # by converting list into set. Setnot allows duplicate element\n",
        "a = set(List)\n",
        "print(a)"
      ],
      "execution_count": 21,
      "outputs": [
        {
          "output_type": "stream",
          "text": [
            "{'Sam', 'Ram', 'Nick'}\n"
          ],
          "name": "stdout"
        }
      ]
    },
    {
      "cell_type": "code",
      "metadata": {
        "id": "eZfO5og7qk56",
        "colab": {
          "base_uri": "https://localhost:8080/"
        },
        "outputId": "398a1199-ac90-45e2-8b0d-07bfa8eaefbc"
      },
      "source": [
        "# Print last for element of list by negative Indexing \n",
        "\n",
        "Fruit_list = [\"apple\", \"banana\", \"cherry\", \"orange\", \"kiwi\", \"melon\", \"mango\"]\n",
        "print(Fruit_list[-4:])"
      ],
      "execution_count": 22,
      "outputs": [
        {
          "output_type": "stream",
          "text": [
            "['orange', 'kiwi', 'melon', 'mango']\n"
          ],
          "name": "stdout"
        }
      ]
    },
    {
      "cell_type": "code",
      "metadata": {
        "id": "mPJFzwewrEij",
        "colab": {
          "base_uri": "https://localhost:8080/"
        },
        "outputId": "5d3ae988-eeea-4d30-80a1-eb9a2c2e8ebf"
      },
      "source": [
        "# Replace the first Sam from Micky\n",
        "List=[\"Ram\",'Sam','Nick','Sam']\n",
        "List[1]='Micky'\n",
        "List"
      ],
      "execution_count": 23,
      "outputs": [
        {
          "output_type": "execute_result",
          "data": {
            "text/plain": [
              "['Ram', 'Micky', 'Nick', 'Sam']"
            ]
          },
          "metadata": {
            "tags": []
          },
          "execution_count": 23
        }
      ]
    },
    {
      "cell_type": "code",
      "metadata": {
        "id": "pSGdFz2srUMA",
        "colab": {
          "base_uri": "https://localhost:8080/"
        },
        "outputId": "f1bd2d0e-dd02-4b5a-f81d-94839379b2d9"
      },
      "source": [
        "# Insert the Micky at 3rd index\n",
        "List=[\"Ram\",'Sam','Nick','Sam']\n",
        "List[3]='Micky'\n",
        "List"
      ],
      "execution_count": 24,
      "outputs": [
        {
          "output_type": "execute_result",
          "data": {
            "text/plain": [
              "['Ram', 'Sam', 'Nick', 'Micky']"
            ]
          },
          "metadata": {
            "tags": []
          },
          "execution_count": 24
        }
      ]
    },
    {
      "cell_type": "code",
      "metadata": {
        "id": "VwK2FyRrroiY",
        "colab": {
          "base_uri": "https://localhost:8080/"
        },
        "outputId": "23794752-cd49-4107-eb15-a8395a3cde1f"
      },
      "source": [
        "# Insert Kiwi in a tuple\n",
        "\n",
        "x = (\"apple\", \"banana\", \"cherry\")\n",
        "y = list(x)\n",
        "y.insert(2,\"kiwi\")\n",
        "x = tuple(y)\n",
        "\n",
        "print(x)"
      ],
      "execution_count": 25,
      "outputs": [
        {
          "output_type": "stream",
          "text": [
            "('apple', 'banana', 'kiwi', 'cherry')\n"
          ],
          "name": "stdout"
        }
      ]
    },
    {
      "cell_type": "code",
      "metadata": {
        "id": "UUky7WT4tnRM",
        "colab": {
          "base_uri": "https://localhost:8080/"
        },
        "outputId": "01f00249-0fc2-4075-df54-5ad90bae5303"
      },
      "source": [
        "# Add item in set\n",
        "\n",
        "Fruits = {\"apple\", \"banana\", \"cherry\"}\n",
        "\n",
        "Fruits.add(\"kiwi\")\n",
        "\n",
        "print(Fruits)"
      ],
      "execution_count": 26,
      "outputs": [
        {
          "output_type": "stream",
          "text": [
            "{'cherry', 'kiwi', 'banana', 'apple'}\n"
          ],
          "name": "stdout"
        }
      ]
    },
    {
      "cell_type": "code",
      "metadata": {
        "id": "NKHoF69hueSK",
        "colab": {
          "base_uri": "https://localhost:8080/"
        },
        "outputId": "9efc957f-62a1-45d3-b1c9-607776888184"
      },
      "source": [
        "# Add two set\n",
        "Fruit1 = {\"apple\", \"banana\", \"cherry\"}\n",
        "Fruit2 = {\"pineapple\", \"mango\", \"papaya\"}\n",
        "fruit3 = Fruit1.union(Fruit2)\n",
        "print(fruit3)"
      ],
      "execution_count": 27,
      "outputs": [
        {
          "output_type": "stream",
          "text": [
            "{'pineapple', 'banana', 'cherry', 'papaya', 'mango', 'apple'}\n"
          ],
          "name": "stdout"
        }
      ]
    },
    {
      "cell_type": "code",
      "metadata": {
        "id": "Z5YUZ2dUvbwK",
        "colab": {
          "base_uri": "https://localhost:8080/"
        },
        "outputId": "8f62157b-fed9-48ea-b562-9b0447c04af8"
      },
      "source": [
        "# Remove the any item from the set\n",
        "set={\"Krishh\",\"Prince\",\"KUmar\"}\n",
        "set.remove(\"Prince\")\n",
        "print(set)"
      ],
      "execution_count": 34,
      "outputs": [
        {
          "output_type": "stream",
          "text": [
            "{'KUmar', 'Krishh'}\n"
          ],
          "name": "stdout"
        }
      ]
    },
    {
      "cell_type": "code",
      "metadata": {
        "id": "_f_XIOsVvtz5",
        "colab": {
          "base_uri": "https://localhost:8080/"
        },
        "outputId": "3bebaac5-6250-4cec-b3a0-e010afac8993"
      },
      "source": [
        "#Add a new item to the original dictionary, and see that the keys list gets updated as well:\n",
        "Bike = {\n",
        "\"brand\": \"Bajaj\",\n",
        "\"model\": \"TVS\",\n",
        "\"year\": 2013\n",
        "}\n",
        "\n",
        "x = Bike.keys()\n",
        "\n",
        "print(x) \n",
        "\n",
        "Bike['month'] = \"Dec\"  \n",
        "print(x) #after the change"
      ],
      "execution_count": 36,
      "outputs": [
        {
          "output_type": "stream",
          "text": [
            "dict_keys(['brand', 'model', 'year'])\n",
            "dict_keys(['brand', 'model', 'year', 'month'])\n"
          ],
          "name": "stdout"
        }
      ]
    },
    {
      "cell_type": "code",
      "metadata": {
        "id": "m8OtEPYfwaqX",
        "colab": {
          "base_uri": "https://localhost:8080/"
        },
        "outputId": "1bee8a1e-ce43-4a15-e79a-66fd8dbf2a49"
      },
      "source": [
        "#Update the item from the Dict\n",
        "Car = {\n",
        "  \"brand\": \"Ford\",\n",
        "  \"model\": \"Mustang\",\n",
        "  \"year\": 1964\n",
        "  }  #({\"year\": 2020})\n",
        "\n",
        "Car['year'] = 2020  #year updated from 1964 to 2020\n",
        "\n",
        "print(Car)"
      ],
      "execution_count": 39,
      "outputs": [
        {
          "output_type": "stream",
          "text": [
            "{'brand': 'Ford', 'model': 'Mustang', 'year': 2020}\n"
          ],
          "name": "stdout"
        }
      ]
    }
  ]
}