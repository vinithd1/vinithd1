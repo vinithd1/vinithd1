{
  "nbformat": 4,
  "nbformat_minor": 0,
  "metadata": {
    "colab": {
      "name": "Copy of (june 12)Variable_and_operator_.ipynb",
      "provenance": [],
      "collapsed_sections": []
    },
    "kernelspec": {
      "name": "python3",
      "display_name": "Python 3"
    },
    "language_info": {
      "name": "python"
    }
  },
  "cells": [
    {
      "cell_type": "markdown",
      "metadata": {
        "id": "xkS9gXm7JAwb"
      },
      "source": [
        "# Variable and Operator "
      ]
    },
    {
      "cell_type": "markdown",
      "metadata": {
        "id": "bpWJpSkLKLHd"
      },
      "source": [
        "**[Slide No.- 19]**\n",
        "\n",
        "1. Which one of the following is correct way of declaring and initialising a variable, x with value 5?\n",
        "\n",
        "A. int x\n",
        "  \n",
        "    x=5\n",
        "\n",
        "B. int x=5\n",
        "\n",
        "C. x=5\n",
        "\n",
        "D. declare x=5\n",
        "\n",
        "\n",
        "\n",
        "\n"
      ]
    },
    {
      "cell_type": "code",
      "metadata": {
        "id": "-gWs4ttlI3TT",
        "colab": {
          "base_uri": "https://localhost:8080/"
        },
        "outputId": "003bb968-0759-42c2-b455-d1ea8e163d58"
      },
      "source": [
        "# Check your Answer\n",
        "x = 5\n",
        "x"
      ],
      "execution_count": 2,
      "outputs": [
        {
          "output_type": "execute_result",
          "data": {
            "text/plain": [
              "5"
            ]
          },
          "metadata": {
            "tags": []
          },
          "execution_count": 2
        }
      ]
    },
    {
      "cell_type": "markdown",
      "metadata": {
        "id": "gpg53f-UKhi1"
      },
      "source": [
        "**[Slide No.-19]**\n",
        "\n",
        "2. Which of the following is not valid variable name in Python?\n",
        "\n",
        "A. _var = 6\n",
        "\n",
        "B. var_name = 6\n",
        "\n",
        "C. var11 = 6\n",
        "\n",
        "D. 11var = 6"
      ]
    },
    {
      "cell_type": "code",
      "metadata": {
        "id": "4eFCqihlKg6W",
        "colab": {
          "base_uri": "https://localhost:8080/",
          "height": 128
        },
        "outputId": "b2433e7c-7ac5-4565-d08c-c57fa5cb5372"
      },
      "source": [
        "#Check your Answer\n",
        "11var = 6"
      ],
      "execution_count": 1,
      "outputs": [
        {
          "output_type": "error",
          "ename": "SyntaxError",
          "evalue": "ignored",
          "traceback": [
            "\u001b[0;36m  File \u001b[0;32m\"<ipython-input-1-23e0aa1b4133>\"\u001b[0;36m, line \u001b[0;32m2\u001b[0m\n\u001b[0;31m    11var = 6\u001b[0m\n\u001b[0m        ^\u001b[0m\n\u001b[0;31mSyntaxError\u001b[0m\u001b[0;31m:\u001b[0m invalid syntax\n"
          ]
        }
      ]
    },
    {
      "cell_type": "markdown",
      "metadata": {
        "id": "uIU52OVeLOO2"
      },
      "source": [
        "**[Slide No.- 19]**\n",
        "\n",
        "\n",
        "3. Which of the following will give error?\n",
        "\n",
        "A. a=b=c=1\n",
        "\n",
        "B. a,b,c=1\n",
        "\n",
        "C. a b c=1, 4, 1.5\n",
        "\n",
        "D. None of the above"
      ]
    },
    {
      "cell_type": "code",
      "metadata": {
        "id": "ZFU-przBLmgX",
        "colab": {
          "base_uri": "https://localhost:8080/",
          "height": 178
        },
        "outputId": "24feced4-fa27-443b-c679-65f1de2aab5c"
      },
      "source": [
        "#Check your Answer\n",
        "a,b,c=1"
      ],
      "execution_count": 3,
      "outputs": [
        {
          "output_type": "error",
          "ename": "TypeError",
          "evalue": "ignored",
          "traceback": [
            "\u001b[0;31m---------------------------------------------------------------------------\u001b[0m",
            "\u001b[0;31mTypeError\u001b[0m                                 Traceback (most recent call last)",
            "\u001b[0;32m<ipython-input-3-1208c3c3bd34>\u001b[0m in \u001b[0;36m<module>\u001b[0;34m()\u001b[0m\n\u001b[1;32m      1\u001b[0m \u001b[0;31m#Check your Answer\u001b[0m\u001b[0;34m\u001b[0m\u001b[0;34m\u001b[0m\u001b[0;34m\u001b[0m\u001b[0m\n\u001b[0;32m----> 2\u001b[0;31m \u001b[0ma\u001b[0m\u001b[0;34m,\u001b[0m\u001b[0mb\u001b[0m\u001b[0;34m,\u001b[0m\u001b[0mc\u001b[0m\u001b[0;34m=\u001b[0m\u001b[0;36m1\u001b[0m\u001b[0;34m\u001b[0m\u001b[0;34m\u001b[0m\u001b[0m\n\u001b[0m",
            "\u001b[0;31mTypeError\u001b[0m: cannot unpack non-iterable int object"
          ]
        }
      ]
    },
    {
      "cell_type": "markdown",
      "metadata": {
        "id": "sOaKfvOMMdEw"
      },
      "source": [
        "**[Slide No.- 21]**\n",
        "\n",
        "4. What is the output of the following code\n",
        "\n",
        "x = 6\n",
        "\n",
        "y = 2\n",
        "\n",
        "a=print(x ** y)\n",
        "\n",
        "b= print(x // y)"
      ]
    },
    {
      "cell_type": "code",
      "metadata": {
        "id": "8Y5nOCbuLywt",
        "colab": {
          "base_uri": "https://localhost:8080/"
        },
        "outputId": "7e730590-97f7-45cb-dd76-2dcfab35deb0"
      },
      "source": [
        "#Check your Answer\n",
        "\n",
        "x = 6\n",
        "\n",
        "y = 2\n",
        "\n",
        "a=print(x ** y)\n",
        "\n",
        "b= print(x // y)"
      ],
      "execution_count": 4,
      "outputs": [
        {
          "output_type": "stream",
          "text": [
            "36\n",
            "3\n"
          ],
          "name": "stdout"
        }
      ]
    },
    {
      "cell_type": "markdown",
      "metadata": {
        "id": "-FxzjkhMNkZw"
      },
      "source": [
        "**[Slide No.-21]**\n",
        "\n",
        "# find the value of this expression (v+w) * x/ y\n",
        "v = 4\n",
        "\n",
        "w = 5\n",
        "\n",
        "x = 8\n",
        "\n",
        "\n",
        "y = 2\n",
        "\n",
        "z = 0"
      ]
    },
    {
      "cell_type": "code",
      "metadata": {
        "id": "kx6gTDJWNjnT",
        "colab": {
          "base_uri": "https://localhost:8080/"
        },
        "outputId": "45bbd1c0-fd8f-48d7-a8fa-5cbe178f064f"
      },
      "source": [
        "# find the value of this expression (v+w) * x/ y\n",
        "v = 4\n",
        "\n",
        "w = 5\n",
        "\n",
        "x = 8\n",
        "\n",
        "y = 2\n",
        "\n",
        "z = 0\n",
        "(v+w) * x/ y"
      ],
      "execution_count": 5,
      "outputs": [
        {
          "output_type": "execute_result",
          "data": {
            "text/plain": [
              "36.0"
            ]
          },
          "metadata": {
            "tags": []
          },
          "execution_count": 5
        }
      ]
    },
    {
      "cell_type": "markdown",
      "metadata": {
        "id": "KrG9aIGjN6C5"
      },
      "source": [
        "**[Slide No.- 21]**\n",
        "\n",
        "6. What is the output of print(10 - 4 * 2)"
      ]
    },
    {
      "cell_type": "code",
      "metadata": {
        "id": "VfvhDJ2zN5bg",
        "colab": {
          "base_uri": "https://localhost:8080/"
        },
        "outputId": "a449fc6d-a665-437f-f374-fe16fa39be11"
      },
      "source": [
        "#Check your Answer\n",
        "print(10-4*2)"
      ],
      "execution_count": 6,
      "outputs": [
        {
          "output_type": "stream",
          "text": [
            "2\n"
          ],
          "name": "stdout"
        }
      ]
    },
    {
      "cell_type": "markdown",
      "metadata": {
        "id": "k3JGKOfQOBhQ"
      },
      "source": [
        "**[Slide No.-21]**\n",
        "\n",
        "7. What is the output of print(2 * 3 ** 3 * 4)"
      ]
    },
    {
      "cell_type": "code",
      "metadata": {
        "id": "BYuPgLHZOAr4",
        "colab": {
          "base_uri": "https://localhost:8080/"
        },
        "outputId": "94a7784c-738a-4d21-e86c-99ae758b915f"
      },
      "source": [
        "#Check your Answer\n",
        "print(2 * 3 ** 3 * 4)"
      ],
      "execution_count": 7,
      "outputs": [
        {
          "output_type": "stream",
          "text": [
            "216\n"
          ],
          "name": "stdout"
        }
      ]
    },
    {
      "cell_type": "markdown",
      "metadata": {
        "id": "xW2pUR61OMGp"
      },
      "source": [
        "8. What is the output of the expression  print(-18 // 4)"
      ]
    },
    {
      "cell_type": "code",
      "metadata": {
        "id": "nkDvUrFIOLWo",
        "colab": {
          "base_uri": "https://localhost:8080/"
        },
        "outputId": "c56bebc4-a2d1-4f7f-9b15-90806b8620b6"
      },
      "source": [
        "print(-18 // 4)"
      ],
      "execution_count": 9,
      "outputs": [
        {
          "output_type": "stream",
          "text": [
            "-5\n"
          ],
          "name": "stdout"
        }
      ]
    },
    {
      "cell_type": "markdown",
      "metadata": {
        "id": "jKsDtqzXOu1Y"
      },
      "source": [
        "**[Slide No.- 21]**\n",
        "\n",
        "9. Write a program to check 5 is less then 10 or greater then 3."
      ]
    },
    {
      "cell_type": "code",
      "metadata": {
        "id": "F-FwpWUMOuNU",
        "colab": {
          "base_uri": "https://localhost:8080/"
        },
        "outputId": "0bd77058-4135-4434-d79f-586193af8f99"
      },
      "source": [
        "a=5\n",
        "print(a<10 and a>3)"
      ],
      "execution_count": 13,
      "outputs": [
        {
          "output_type": "stream",
          "text": [
            "True\n"
          ],
          "name": "stdout"
        }
      ]
    },
    {
      "cell_type": "markdown",
      "metadata": {
        "id": "tZ86dv17lJaf"
      },
      "source": [
        "10 . Write a program  by using 'and' ,'or' And 'not' operator ?"
      ]
    },
    {
      "cell_type": "code",
      "metadata": {
        "id": "81iiP2NKvwXV",
        "colab": {
          "base_uri": "https://localhost:8080/"
        },
        "outputId": "330f0001-caac-4be7-afb0-07c36b5a1bdc"
      },
      "source": [
        "a=11\n",
        "print(a<10 and a>3)\n",
        "print(a<10 or a>3)\n",
        "print(not(a<10 and a>3))"
      ],
      "execution_count": 16,
      "outputs": [
        {
          "output_type": "stream",
          "text": [
            "False\n",
            "True\n",
            "True\n"
          ],
          "name": "stdout"
        }
      ]
    },
    {
      "cell_type": "markdown",
      "metadata": {
        "id": "4h-oViRKvxJY"
      },
      "source": [
        "**[Slide No.- 27]**\n",
        "\n",
        "11. What is the output of the following assignment operator\n",
        "\n",
        "y = 10\n",
        "\n",
        "y += 2\n",
        "\n",
        "print(y)"
      ]
    },
    {
      "cell_type": "code",
      "metadata": {
        "id": "rK0jrT2Kv4Do",
        "colab": {
          "base_uri": "https://localhost:8080/"
        },
        "outputId": "250239e8-519a-42cf-aa46-0ad2f154d0c7"
      },
      "source": [
        "y = 10\n",
        "\n",
        "y += 2\n",
        "\n",
        "print(y)"
      ],
      "execution_count": 21,
      "outputs": [
        {
          "output_type": "stream",
          "text": [
            "12\n"
          ],
          "name": "stdout"
        }
      ]
    },
    {
      "cell_type": "markdown",
      "metadata": {
        "id": "RodqAVuDRXcY"
      },
      "source": [
        "**[Slide No.-27]**\n",
        "\n",
        "12. What is the output of the code .\n",
        "\n",
        "x=5\n",
        "\n",
        "x +=x+4\n",
        "\n",
        "print(x)\n"
      ]
    },
    {
      "cell_type": "code",
      "metadata": {
        "id": "qZ7OH6KIRaJJ",
        "colab": {
          "base_uri": "https://localhost:8080/"
        },
        "outputId": "ccaf5517-7b97-49bc-ea93-2e89954559d3"
      },
      "source": [
        "x=5\n",
        "\n",
        "x +=x+4\n",
        "\n",
        "print(x)"
      ],
      "execution_count": 19,
      "outputs": [
        {
          "output_type": "stream",
          "text": [
            "14\n"
          ],
          "name": "stdout"
        }
      ]
    },
    {
      "cell_type": "markdown",
      "metadata": {
        "id": "ymG3gW4eT3F7"
      },
      "source": [
        "**[Slide No.-27]**\n",
        "\n",
        "13.  what is the output :\n",
        "\n",
        "y=7\n",
        "\n",
        "x  +=y+4\n",
        "\n",
        "print(x)"
      ]
    },
    {
      "cell_type": "code",
      "metadata": {
        "id": "4tW3Sr0bSOTK",
        "colab": {
          "base_uri": "https://localhost:8080/"
        },
        "outputId": "56148c07-dbcc-4d9c-b379-34b525f3f3e4"
      },
      "source": [
        "#x=x+y+4\n",
        "y=7\n",
        "\n",
        "x +=y+4\n",
        "\n",
        "print(x)"
      ],
      "execution_count": 22,
      "outputs": [
        {
          "output_type": "stream",
          "text": [
            "25\n"
          ],
          "name": "stdout"
        }
      ]
    }
  ]
}