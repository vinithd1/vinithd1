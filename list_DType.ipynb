{
  "nbformat": 4,
  "nbformat_minor": 0,
  "metadata": {
    "colab": {
      "name": "Copy of list_DType.ipynb",
      "provenance": [],
      "collapsed_sections": []
    },
    "kernelspec": {
      "name": "python3",
      "display_name": "Python 3"
    },
    "language_info": {
      "name": "python"
    }
  },
  "cells": [
    {
      "cell_type": "markdown",
      "metadata": {
        "id": "7DHlxw7KS4LO"
      },
      "source": [
        "**[Slide No.- 35]**\n",
        "\n",
        "1. Create a empty list and check its Data type "
      ]
    },
    {
      "cell_type": "code",
      "metadata": {
        "id": "9tPdozyQj7cu",
        "colab": {
          "base_uri": "https://localhost:8080/"
        },
        "outputId": "9045aa50-ecf5-4a89-81ea-7bbc34975536"
      },
      "source": [
        "list1=[]\n",
        "print(type(list1))"
      ],
      "execution_count": null,
      "outputs": [
        {
          "output_type": "stream",
          "text": [
            "<class 'list'>\n"
          ],
          "name": "stdout"
        }
      ]
    },
    {
      "cell_type": "markdown",
      "metadata": {
        "id": "4EnsxsI0FPcv"
      },
      "source": [
        ""
      ]
    },
    {
      "cell_type": "markdown",
      "metadata": {
        "id": "KbC4gtb0Wo4u"
      },
      "source": [
        "**[Slide No.- 35]**\n",
        "\n",
        "2. Create a list in which at even places string are present and at odd places integervalue is present and the length of the string is 6."
      ]
    },
    {
      "cell_type": "code",
      "metadata": {
        "id": "BzIsIJzXWpMO",
        "colab": {
          "base_uri": "https://localhost:8080/"
        },
        "outputId": "268a6d72-b9df-4791-a7c9-6941842a9c0a"
      },
      "source": [
        "list2=['abc', 1, 'bgy', 2, 'gic', 3]\n",
        "print(list2)"
      ],
      "execution_count": null,
      "outputs": [
        {
          "output_type": "stream",
          "text": [
            "['abc', 1, 'bgy', 2, 'gic', 3]\n"
          ],
          "name": "stdout"
        }
      ]
    },
    {
      "cell_type": "markdown",
      "metadata": {
        "id": "NhGbCdSfTFa7"
      },
      "source": [
        "**[Slide No. - 36]**\n",
        "\n",
        "3. Create a lsit which has 6 elements and print last three elements from the list "
      ]
    },
    {
      "cell_type": "code",
      "metadata": {
        "id": "SUzgZi8DTF5C",
        "colab": {
          "base_uri": "https://localhost:8080/"
        },
        "outputId": "ca640cde-4c82-493a-eac5-f8658404f3c9"
      },
      "source": [
        "list2=['abc', 1, 'bgy', 2, 'gic', 3]\n",
        "print(list2[-3:])"
      ],
      "execution_count": null,
      "outputs": [
        {
          "output_type": "stream",
          "text": [
            "[2, 'gic', 3]\n"
          ],
          "name": "stdout"
        }
      ]
    },
    {
      "cell_type": "markdown",
      "metadata": {
        "id": "3LhHLCB6Tm8K"
      },
      "source": [
        "**[Slide No. - 36 ]**\n",
        "\n",
        "4. What is the output :\n",
        " list = [1,2,3,4,5,6,7] \n",
        " \n",
        " list[:]=?"
      ]
    },
    {
      "cell_type": "code",
      "metadata": {
        "id": "zfkX5LLzTnXP",
        "colab": {
          "base_uri": "https://localhost:8080/"
        },
        "outputId": "d6a12e4e-9923-455d-cad2-3b480aeba9d7"
      },
      "source": [
        "list=[1,2,3,4,5,6,7]\n",
        "list[:]"
      ],
      "execution_count": null,
      "outputs": [
        {
          "output_type": "execute_result",
          "data": {
            "text/plain": [
              "[1, 2, 3, 4, 5, 6, 7]"
            ]
          },
          "metadata": {
            "tags": []
          },
          "execution_count": 6
        }
      ]
    },
    {
      "cell_type": "markdown",
      "metadata": {
        "id": "93qfPdkuTnfg"
      },
      "source": [
        "**[Slide No. - 36]**\n",
        "\n",
        "5. What is the output : list = [1,2,3,4,5,6,7]\n",
        "\n",
        "Print the even places items from the list."
      ]
    },
    {
      "cell_type": "code",
      "metadata": {
        "id": "otaNABAtTnrp",
        "colab": {
          "base_uri": "https://localhost:8080/"
        },
        "outputId": "e8d8bff0-24ba-400b-e212-d6ffc47ff84d"
      },
      "source": [
        "list = [1,2,3,4,5,6,7]\n",
        "print(list[1::2])\n"
      ],
      "execution_count": null,
      "outputs": [
        {
          "output_type": "stream",
          "text": [
            "[2, 4, 6]\n"
          ],
          "name": "stdout"
        }
      ]
    },
    {
      "cell_type": "markdown",
      "metadata": {
        "id": "SdSk9Z-vTn4h"
      },
      "source": [
        "**[Slide No. - 36]**\n",
        "\n",
        "6. What is the output : list = [1,2,3,4,10,11,7]\n",
        "\n",
        "print 10 and 11 item from the list ."
      ]
    },
    {
      "cell_type": "code",
      "metadata": {
        "id": "i9rupinIToAR",
        "colab": {
          "base_uri": "https://localhost:8080/"
        },
        "outputId": "2c74ca76-a33f-45c4-8bb2-16e69574094d"
      },
      "source": [
        "list = [1,2,3,4,10,11,7]\n",
        "print(list[4:6])"
      ],
      "execution_count": null,
      "outputs": [
        {
          "output_type": "stream",
          "text": [
            "[10, 11]\n"
          ],
          "name": "stdout"
        }
      ]
    },
    {
      "cell_type": "markdown",
      "metadata": {
        "id": "jKf-xLTiToHF"
      },
      "source": [
        "**[Slide No. -38]**\n",
        "\n",
        "7.  Delete the 3 index value from the list and the print the list.\n",
        "\n",
        "list = [1, 2, 3, 4, 5, 6]    \n",
        "\n",
        "print(list)    \n",
        "    \n",
        " "
      ]
    },
    {
      "cell_type": "code",
      "metadata": {
        "id": "YSwSSoZSToQT",
        "colab": {
          "base_uri": "https://localhost:8080/"
        },
        "outputId": "0030420b-5743-4a66-b7f1-e87dd41fc68a"
      },
      "source": [
        "list = [1, 2, 3, 4, 5, 6]\n",
        "list.pop(3)\n",
        "print(list)"
      ],
      "execution_count": null,
      "outputs": [
        {
          "output_type": "stream",
          "text": [
            "[1, 2, 3, 5, 6]\n"
          ],
          "name": "stdout"
        }
      ]
    },
    {
      "cell_type": "markdown",
      "metadata": {
        "id": "XqIA7Ia9Umga"
      },
      "source": [
        "[Slide No. - 37]\n",
        "8. list = [1, \"a\", 3, 4, 5, 6] \n",
        "\n",
        "replace \"a\" by 2 in the list\n",
        "\n",
        "What is the new list?"
      ]
    },
    {
      "cell_type": "code",
      "metadata": {
        "id": "fCgmnwKlUm7K",
        "colab": {
          "base_uri": "https://localhost:8080/"
        },
        "outputId": "dfc5eb73-83fe-466a-9f53-ef8264e546f3"
      },
      "source": [
        "list = [1, \"a\", 3, 4, 5, 6]\n",
        "list[1]=2\n",
        "print(list)"
      ],
      "execution_count": null,
      "outputs": [
        {
          "output_type": "stream",
          "text": [
            "[1, 2, 3, 4, 5, 6]\n"
          ],
          "name": "stdout"
        }
      ]
    },
    {
      "cell_type": "markdown",
      "metadata": {
        "id": "PbqBBeiMUnMA"
      },
      "source": [
        "**[Slide No - 37]**\n",
        "\n",
        "9. list = [1, 2, 3, 4, 5, 6] \n",
        "\n",
        "by using neagtive indexing replace 5 by 'e' in the list \n",
        "\n",
        "print(list)"
      ]
    },
    {
      "cell_type": "code",
      "metadata": {
        "id": "EsvRWH48UnWJ",
        "colab": {
          "base_uri": "https://localhost:8080/"
        },
        "outputId": "43934d4f-e358-4464-ac07-f30fcdb4d394"
      },
      "source": [
        "list = [1, 2, 3, 4, 5, 6]\n",
        "list[-2]='e'\n",
        "print(list)"
      ],
      "execution_count": null,
      "outputs": [
        {
          "output_type": "stream",
          "text": [
            "[1, 2, 3, 4, 'e', 6]\n"
          ],
          "name": "stdout"
        }
      ]
    },
    {
      "cell_type": "markdown",
      "metadata": {
        "id": "-2YsXQGKVGxY"
      },
      "source": [
        "**[Slide No. - 37]**\n",
        "\n",
        "10. list = [1, 2, 3, 4, 5, 6] \n",
        "\n",
        "replace 1st and 2nd index value by (89,78)\n",
        "\n",
        "print(list) "
      ]
    },
    {
      "cell_type": "code",
      "metadata": {
        "id": "G3JxP2ToVGCt",
        "colab": {
          "base_uri": "https://localhost:8080/"
        },
        "outputId": "c61c0dae-4380-44b7-c890-ca87f76d27b5"
      },
      "source": [
        "list = [1, 2, 3, 4, 5, 6]\n",
        "list[1]=89\n",
        "list[2]=78\n",
        "print(list)"
      ],
      "execution_count": null,
      "outputs": [
        {
          "output_type": "stream",
          "text": [
            "[1, 89, 78, 4, 5, 6]\n"
          ],
          "name": "stdout"
        }
      ]
    },
    {
      "cell_type": "markdown",
      "metadata": {
        "id": "5PEGDtZgVeTB"
      },
      "source": [
        "**[Slide No. -38]**\n",
        "\n",
        "11. Create a list and delete 2 to 4 index value  from list ?"
      ]
    },
    {
      "cell_type": "code",
      "metadata": {
        "id": "tuy0DMDqZ7Ux",
        "colab": {
          "base_uri": "https://localhost:8080/"
        },
        "outputId": "de4dd086-f76f-48b3-98f4-958f614ce421"
      },
      "source": [
        "list3=[1,2,3,4,5,6]\n",
        "del list3[2:5]\n",
        "print(list3)"
      ],
      "execution_count": null,
      "outputs": [
        {
          "output_type": "stream",
          "text": [
            "[1, 2, 6]\n"
          ],
          "name": "stdout"
        }
      ]
    },
    {
      "cell_type": "markdown",
      "metadata": {
        "id": "-OszCxUMZ8GW"
      },
      "source": [
        "**[Slide No.- 39]**\n",
        "\n",
        "12. Rermove Science  item from the list.\n",
        "\n",
        "Subject =['math', 'science', 'hindi', 'SST', 'Sanskrit']\n"
      ]
    },
    {
      "cell_type": "code",
      "metadata": {
        "id": "PwSvcAWJVexl",
        "colab": {
          "base_uri": "https://localhost:8080/"
        },
        "outputId": "cd259b47-dc53-4d64-fdea-260e8f538f02"
      },
      "source": [
        "Subject =['math', 'science', 'hindi', 'SST', 'Sanskrit']\n",
        "Subject.remove('science')\n",
        "print(Subject)"
      ],
      "execution_count": null,
      "outputs": [
        {
          "output_type": "stream",
          "text": [
            "['math', 'hindi', 'SST', 'Sanskrit']\n"
          ],
          "name": "stdout"
        }
      ]
    }
  ]
}