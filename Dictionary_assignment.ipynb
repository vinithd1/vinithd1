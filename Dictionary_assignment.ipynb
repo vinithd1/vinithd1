{
  "nbformat": 4,
  "nbformat_minor": 0,
  "metadata": {
    "colab": {
      "name": "Copy of Dictionary_assignment.ipynb",
      "provenance": [],
      "collapsed_sections": []
    },
    "kernelspec": {
      "name": "python3",
      "display_name": "Python 3"
    },
    "language_info": {
      "name": "python"
    }
  },
  "cells": [
    {
      "cell_type": "markdown",
      "metadata": {
        "id": "24kR8DnAEDne"
      },
      "source": [
        "**[Slide No. 47]**\n",
        "\n",
        "1. Create a empty Dictionary and check its Data type."
      ]
    },
    {
      "cell_type": "code",
      "metadata": {
        "id": "mHhKHu13oltD",
        "colab": {
          "base_uri": "https://localhost:8080/"
        },
        "outputId": "d4471adc-efde-4e9e-95fa-e05029d5a34d"
      },
      "source": [
        "Dict1={}\n",
        "print(type(Dict1))"
      ],
      "execution_count": null,
      "outputs": [
        {
          "output_type": "stream",
          "text": [
            "<class 'dict'>\n"
          ],
          "name": "stdout"
        }
      ]
    },
    {
      "cell_type": "markdown",
      "metadata": {
        "id": "osWsIyfiENG9"
      },
      "source": [
        "**[Slide No.48]**\n",
        "\n",
        "2.  Write a Python program  to add a key to a dictionary\n",
        "\n",
        "Sample Dictionary : {0: 10, 1: 20}\n",
        "\n",
        "Expected Result : {0: 10, 1: 20, 2: 30}"
      ]
    },
    {
      "cell_type": "code",
      "metadata": {
        "id": "pNtCGJmlolLo",
        "colab": {
          "base_uri": "https://localhost:8080/"
        },
        "outputId": "0138f572-f860-49a9-a7d2-8d83e6bdc861"
      },
      "source": [
        "Dict1={0: 10, 1: 20}\n",
        "Dict1[2]=30\n",
        "Dict1"
      ],
      "execution_count": null,
      "outputs": [
        {
          "output_type": "execute_result",
          "data": {
            "text/plain": [
              "{0: 10, 1: 20, 2: 30}"
            ]
          },
          "metadata": {
            "tags": []
          },
          "execution_count": 4
        }
      ]
    },
    {
      "cell_type": "markdown",
      "metadata": {
        "id": "Zu0BHrf1Ej1d"
      },
      "source": [
        "**[Slide No. 48]**\n",
        "\n",
        "3.  Write a Python script to concatenate following dictionaries to create a new one.\n",
        "\n",
        "Sample Dictionary :\n",
        "\n",
        "dic1={1:10, 2:20}\n",
        "\n",
        "dic2={3:30, 4:40}\n",
        "\n",
        "dic3={5:50,6:60}\n",
        "\n",
        "Expected Result : {1: 10, 2: 20, 3: 30, 4: 40, 5: 50, 6: 60}"
      ]
    },
    {
      "cell_type": "code",
      "metadata": {
        "id": "itk1nmgxomLv",
        "colab": {
          "base_uri": "https://localhost:8080/"
        },
        "outputId": "aaeb7e8e-2978-4b38-aaa6-998a8dc0fcbd"
      },
      "source": [
        "dic1={1:10, 2:20}\n",
        "\n",
        "dic2={3:30, 4:40}\n",
        "\n",
        "dic3={5:50,6:60}\n",
        "\n",
        "dic1.update(dic2)\n",
        "dic1.update(dic3)\n",
        "dic1"
      ],
      "execution_count": null,
      "outputs": [
        {
          "output_type": "execute_result",
          "data": {
            "text/plain": [
              "{1: 10, 2: 20, 3: 30, 4: 40, 5: 50, 6: 60}"
            ]
          },
          "metadata": {
            "tags": []
          },
          "execution_count": 11
        }
      ]
    },
    {
      "cell_type": "markdown",
      "metadata": {
        "id": "veyD5dq5E1N8"
      },
      "source": [
        "**[Slide No. 48]**\n",
        "\n",
        "4. Write a program to create Dictionary and add new item in it."
      ]
    },
    {
      "cell_type": "code",
      "metadata": {
        "id": "9-WHcVwAomr6",
        "colab": {
          "base_uri": "https://localhost:8080/"
        },
        "outputId": "1e2f7399-5e4b-48ec-ddba-2ff997aceba3"
      },
      "source": [
        "Dic={1:'hyd',2:'pune',3:'bgl'}\n",
        "Dic[4]='cbn'\n",
        "Dic"
      ],
      "execution_count": null,
      "outputs": [
        {
          "output_type": "execute_result",
          "data": {
            "text/plain": [
              "{1: 'hyd', 2: 'pune', 3: 'bgl', 4: 'cbn'}"
            ]
          },
          "metadata": {
            "tags": []
          },
          "execution_count": 20
        }
      ]
    },
    {
      "cell_type": "markdown",
      "metadata": {
        "id": "RfJujduxFLpC"
      },
      "source": [
        "**[Slide No. 48]**\n",
        "\n",
        "5. Write a program to create Dictionary and delete the item at 3 index . "
      ]
    },
    {
      "cell_type": "code",
      "metadata": {
        "id": "zSUrG-QDonHH",
        "colab": {
          "base_uri": "https://localhost:8080/"
        },
        "outputId": "012ccb25-48c3-4161-ab0a-70a238850c40"
      },
      "source": [
        "Dict={1: 'hyd', 2: 'pune', 3: 'bgl', 4: 'cbn'}\n",
        "Dict.pop(3)\n",
        "Dict"
      ],
      "execution_count": null,
      "outputs": [
        {
          "output_type": "execute_result",
          "data": {
            "text/plain": [
              "{1: 'hyd', 2: 'pune', 4: 'cbn'}"
            ]
          },
          "metadata": {
            "tags": []
          },
          "execution_count": 21
        }
      ]
    },
    {
      "cell_type": "markdown",
      "metadata": {
        "id": "zjee54MuFZZ7"
      },
      "source": [
        "**[Slide No. 48]**\n",
        "\n",
        "6. Write a program to create dictionary and delete last item from it."
      ]
    },
    {
      "cell_type": "code",
      "metadata": {
        "id": "gVtqF24Wonln",
        "colab": {
          "base_uri": "https://localhost:8080/"
        },
        "outputId": "56d3d166-4608-4bfe-c17d-21a207a562a2"
      },
      "source": [
        "Dict={1: 'hyd', 2: 'pune', 3: 'bgl', 4: 'cbn'}\n",
        "Dict.popitem() \n",
        "Dict"
      ],
      "execution_count": null,
      "outputs": [
        {
          "output_type": "execute_result",
          "data": {
            "text/plain": [
              "{1: 'hyd', 2: 'pune', 3: 'bgl'}"
            ]
          },
          "metadata": {
            "tags": []
          },
          "execution_count": 42
        }
      ]
    },
    {
      "cell_type": "markdown",
      "metadata": {
        "id": "R9W-fDghF002"
      },
      "source": [
        "**[Slide No. 49]**\n",
        "\n",
        "7. Create a dictionary and print the item at 2nd index value."
      ]
    },
    {
      "cell_type": "code",
      "metadata": {
        "id": "seEctrJAon-3",
        "colab": {
          "base_uri": "https://localhost:8080/"
        },
        "outputId": "a1edc3c6-71c9-431c-9e87-9dd320967a28"
      },
      "source": [
        "Dict={'place': 'hyd'}\n",
        "Dict['world']='pune'\n",
        "Dict['country']='india'\n",
        "Dict['cont']='aus'\n",
        "print(Dict)\n",
        "Dict.pop('cont')\n",
        "Dict"
      ],
      "execution_count": null,
      "outputs": [
        {
          "output_type": "stream",
          "text": [
            "{'place': 'hyd', 'world': 'pune', 'country': 'india', 'cont': 'aus'}\n"
          ],
          "name": "stdout"
        },
        {
          "output_type": "execute_result",
          "data": {
            "text/plain": [
              "{'country': 'india', 'place': 'hyd', 'world': 'pune'}"
            ]
          },
          "metadata": {
            "tags": []
          },
          "execution_count": 48
        }
      ]
    },
    {
      "cell_type": "markdown",
      "metadata": {
        "id": "Hk9Oaiitvpu0"
      },
      "source": [
        "**[Slide No. 49]**\n",
        "\n",
        "8. Create a Dictionary and change the range of key value ."
      ]
    },
    {
      "cell_type": "code",
      "metadata": {
        "id": "jtznb02Oh5rg",
        "colab": {
          "base_uri": "https://localhost:8080/"
        },
        "outputId": "78a62ebd-9f55-44f3-ed2d-0c6007d9c653"
      },
      "source": [
        "class_room =  {\n",
        "                 'boys':{'boy1':\n",
        "                            {\n",
        "                             'p':45,\n",
        "                             'c':89\n",
        "                            },\n",
        "                         'boy2':['h','b']\n",
        "                        },\n",
        "                'girls':{'girl1':['p','c'],\n",
        "                         'girl2':['p','c'],\n",
        "                         'girl3':{\n",
        "                                 'p':55,\n",
        "                                 'c':79\n",
        "                                 },\n",
        "                        }\n",
        "              }\n",
        "print(class_room)\n",
        "class_room['girls']['girl3']['c']=19\n",
        "class_room"
      ],
      "execution_count": null,
      "outputs": [
        {
          "output_type": "stream",
          "text": [
            "{'boys': {'boy1': {'p': 45, 'c': 89}, 'boy2': ['h', 'b']}, 'girls': {'girl1': ['p', 'c'], 'girl2': ['p', 'c'], 'girl3': {'p': 55, 'c': 79}}}\n"
          ],
          "name": "stdout"
        },
        {
          "output_type": "execute_result",
          "data": {
            "text/plain": [
              "{'boys': {'boy1': {'c': 89, 'p': 45}, 'boy2': ['h', 'b']},\n",
              " 'girls': {'girl1': ['p', 'c'],\n",
              "  'girl2': ['p', 'c'],\n",
              "  'girl3': {'c': 19, 'p': 55}}}"
            ]
          },
          "metadata": {
            "tags": []
          },
          "execution_count": 54
        }
      ]
    },
    {
      "cell_type": "code",
      "metadata": {
        "id": "0gBZCHQ6CRze"
      },
      "source": [
        ""
      ],
      "execution_count": null,
      "outputs": []
    }
  ]
}